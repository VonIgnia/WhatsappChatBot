{
 "cells": [
  {
   "cell_type": "code",
   "execution_count": 1,
   "metadata": {},
   "outputs": [],
   "source": [
    "import pandas as pd\n",
    "import os\n",
    "from envia_mensagem import send_whatsapp_message\n",
    "\n",
    "dados_clientes = pd.read_excel(open('base_de_clientes.xlsx', 'rb'),sheet_name='Dados Clientes')\n",
    "educacional = pd.read_excel(open('base_de_clientes.xlsx', 'rb'),sheet_name='Teste',skiprows=1)\n",
    "educacional.head(6);"
   ]
  },
  {
   "cell_type": "code",
   "execution_count": 2,
   "metadata": {},
   "outputs": [
    {
     "data": {
      "text/plain": [
       "'Oi [cliente],\\nEspero que você esteja bem! Aqui é a Letícia Charelli, sócia na BioEdTech e responsável pelos cursos. Vi que você demonstrou interesse em explorar mais sobre a Bioimpressão 3D e queria te contar um pouco sobre o nosso curso, que é realmente especial.\\n\\nImagine-se mergulhando em uma tecnologia que está transformando a saúde. Nosso curso de Bioimpressão 3D na Saúde não é apenas sobre aprender; é sobre experimentar, criar e inovar em um ambiente de aprendizado dinâmico e colaborativo.\\n\\nAqui está o que te espera:\\n•\\tDois dias imersivos em São Paulo, na Bayer, com aulas práticas em nosso laboratório de biotecnologia de ponta.\\n•\\tPráticas que abrangem desde a modelagem e fatiamento até a formulação de biotintas e bioimpressão de tecidos complexos (mandíbula, coração, vaso, osso, etc).\\n•\\tAulas teóricas que você pode acessar online, a qualquer hora, através da nossa plataforma EAD.\\n\\nO curso é desenhado para que você não apenas aprenda, mas realmente viva a bioimpressão 3D, aplicando os conhecimentos em situações reais e desafiadoras. Você vai trabalhar lado a lado com especialistas do setor, descobrir as nuances da tecnologia FRESH bioprinting e explorar aplicações que vão desde a criação de esferoides celulares até dispositivos organ-on-chip.\\n\\nE o melhor, você não precisa ter uma formação específica prévia para participar. Estamos aqui para te guiar e proporcionar uma experiência de aprendizado enriquecedora e transformadora. Que tal agendarmos uma conversa para eu te contar mais detalhes e te ajudar a se inscrever? Quero muito te ver aproveitando essa oportunidade única e dando um passo significativo na sua carreira.\\n\\nResponda esta mensagem e vamos juntos transformar o futuro da saúde!\\nCom carinho, Letícia\\xa0Charelli.'"
      ]
     },
     "execution_count": 2,
     "metadata": {},
     "output_type": "execute_result"
    }
   ],
   "source": [
    "import io\n",
    "txt_edu = io.open(\"template_edu.txt\", mode=\"r\", encoding=\"utf-8\")\n",
    "string_cliente = txt_edu.read()\n",
    "txt_edu.close()\n",
    "\n",
    "\n",
    "string_cliente"
   ]
  },
  {
   "cell_type": "code",
   "execution_count": 3,
   "metadata": {},
   "outputs": [],
   "source": [
    "#isolando colunas de interesse em um dataframe separado\n",
    "#educacional[\"Primeiro Nome\"] = educacional[\"Nome\"].str.split().str[0]\n",
    "#res_edu_contatos = educacional.loc[:, [\"Primeiro Nome\",\"Telefone\",\"E-mail\"]].head(4)\n",
    "#res_edu_contatos;"
   ]
  },
  {
   "cell_type": "code",
   "execution_count": 4,
   "metadata": {},
   "outputs": [],
   "source": [
    "#imprimindo nome e respectivo telefone com itterrows \n",
    "#for index, row in res_edu_contatos.iterrows():\n",
    "    #print (\"{0}.txt , {1}\".format(row['Primeiro Nome'], row['Telefone']))"
   ]
  },
  {
   "cell_type": "code",
   "execution_count": 5,
   "metadata": {},
   "outputs": [
    {
     "data": {
      "text/plain": [
       "'\\neducacional[\"Primeiro Nome\"] = educacional[\"Nome\"].str.split().str[0]\\ndef create_personalized_message(name, template):\\n    return template.replace(\\'[cliente]\\', name)\\n\\n# Cria uma pasta para salvar as mensagens caso já não exista\\noutput_dir = \"personalized_messages\"\\nos.makedirs(output_dir, exist_ok=True)\\n\\n# Para cada linha no dataframe, gera um arquivo personalizado, salva o arquivo e envia uma mensagem para Whatsapp ou email\\nfor index, row in educacional.iterrows():\\n    \\n    personalized_message = create_personalized_message(row[\\'Primeiro Nome\\'], string_cliente)\\n    # Define the file path using the customer\\'s name\\n    file_path = os.path.join(output_dir, f\"{row[\\'Primeiro Nome\\']}.txt\")\\n    # Save the personalized message to a file\\n    with open(file_path, \\'w\\', encoding=\\'utf-8\\') as file:\\n        file.write(personalized_message)\\n\\n    #print (type(row[\\'Telefone\\']))  \\n    if type(row[\\'Telefone\\']) != float:\\n        print (\"{0}.txt , {1}\".format(row[\\'Primeiro Nome\\'], row[\\'Telefone\\']))\\n    elif type(row[\\'E-mail\\']) != float:\\n        print (\"{0}.txt , {1}\".format(row[\\'Primeiro Nome\\'], row[\\'E-mail\\']))\\n    else: print (\"pintar de vermelho\")\\n'"
      ]
     },
     "execution_count": 5,
     "metadata": {},
     "output_type": "execute_result"
    }
   ],
   "source": [
    "\"\"\"\n",
    "educacional[\"Primeiro Nome\"] = educacional[\"Nome\"].str.split().str[0]\n",
    "def create_personalized_message(name, template):\n",
    "    return template.replace('[cliente]', name)\n",
    "\n",
    "# Cria uma pasta para salvar as mensagens caso já não exista\n",
    "output_dir = \"personalized_messages\"\n",
    "os.makedirs(output_dir, exist_ok=True)\n",
    "\n",
    "# Para cada linha no dataframe, gera um arquivo personalizado, salva o arquivo e envia uma mensagem para Whatsapp ou email\n",
    "for index, row in educacional.iterrows():\n",
    "    \n",
    "    personalized_message = create_personalized_message(row['Primeiro Nome'], string_cliente)\n",
    "    # Define the file path using the customer's name\n",
    "    file_path = os.path.join(output_dir, f\"{row['Primeiro Nome']}.txt\")\n",
    "    # Save the personalized message to a file\n",
    "    with open(file_path, 'w', encoding='utf-8') as file:\n",
    "        file.write(personalized_message)\n",
    "\n",
    "    #print (type(row['Telefone']))  \n",
    "    if type(row['Telefone']) != float:\n",
    "        print (\"{0}.txt , {1}\".format(row['Primeiro Nome'], row['Telefone']))\n",
    "    elif type(row['E-mail']) != float:\n",
    "        print (\"{0}.txt , {1}\".format(row['Primeiro Nome'], row['E-mail']))\n",
    "    else: print (\"pintar de vermelho\")\n",
    "\"\"\""
   ]
  },
  {
   "cell_type": "code",
   "execution_count": 6,
   "metadata": {},
   "outputs": [
    {
     "name": "stdout",
     "output_type": "stream",
     "text": [
      "Mensagem enviada\n"
     ]
    }
   ],
   "source": [
    "# Example usage\n",
    "recipient_phone_number = \"(11) 94961-4147\"  # Replace with the recipient's phone number\n",
    "message_text = io.open(\"personalized_messages/Letícia.txt\", mode=\"r\", encoding=\"utf-8\").read()\n",
    "#print((message_text))\n",
    "\n",
    "\n",
    "send_whatsapp_message(recipient_phone_number, message_text)"
   ]
  },
  {
   "cell_type": "code",
   "execution_count": 7,
   "metadata": {},
   "outputs": [],
   "source": [
    "import re\n",
    "def convert_google_sheet_url(url):\n",
    "    # Regular expression to match and capture the necessary part of the URL\n",
    "    pattern = r'https://docs\\.google\\.com/spreadsheets/d/([a-zA-Z0-9-_]+)(/edit#gid=(\\d+)|/edit.*)?'\n",
    "\n",
    "    # Replace function to construct the new URL for CSV export\n",
    "    # If gid is present in the URL, it includes it in the export URL, otherwise, it's omitted\n",
    "    replacement = lambda m: f'https://docs.google.com/spreadsheets/d/{m.group(1)}/export?' + (f'gid={m.group(3)}&' if m.group(3) else '') + 'format=csv'\n",
    "\n",
    "    # Replace using regex\n",
    "    new_url = re.sub(pattern, replacement, url)\n",
    "\n",
    "    return new_url"
   ]
  },
  {
   "cell_type": "code",
   "execution_count": 8,
   "metadata": {},
   "outputs": [
    {
     "ename": "SyntaxError",
     "evalue": "invalid syntax (2699717286.py, line 3)",
     "output_type": "error",
     "traceback": [
      "\u001b[1;36m  Cell \u001b[1;32mIn[8], line 3\u001b[1;36m\u001b[0m\n\u001b[1;33m    id_teste =\u001b[0m\n\u001b[1;37m               ^\u001b[0m\n\u001b[1;31mSyntaxError\u001b[0m\u001b[1;31m:\u001b[0m invalid syntax\n"
     ]
    }
   ],
   "source": [
    "\n",
    "link_planilha_online = \"https://docs.google.com/spreadsheets/d/1TMr-TMuTmX6fsC0EIhmgVtjVRtV8Az54DLMMAm7eJAk/edit?usp=sharing\"\n",
    "id_planilha = \"1TMr-TMuTmX6fsC0EIhmgVtjVRtV8Az54DLMMAm7eJAk\"\n",
    "id_teste = \n",
    "\n",
    "link_formatado = convert_google_sheet_url(link_planilha_online)\n",
    "teste_planilha_online = pd.read_csv(link_formatado, sheet_name=\"Teste\")\n",
    "teste_planilha_online.head(4)\n"
   ]
  }
 ],
 "metadata": {
  "kernelspec": {
   "display_name": "Python 3",
   "language": "python",
   "name": "python3"
  },
  "language_info": {
   "codemirror_mode": {
    "name": "ipython",
    "version": 3
   },
   "file_extension": ".py",
   "mimetype": "text/x-python",
   "name": "python",
   "nbconvert_exporter": "python",
   "pygments_lexer": "ipython3",
   "version": "3.12.1"
  }
 },
 "nbformat": 4,
 "nbformat_minor": 2
}
